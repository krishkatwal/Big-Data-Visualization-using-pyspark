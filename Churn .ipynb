{
 "cells": [
  {
   "cell_type": "markdown",
   "id": "178a31b4-bf60-45de-bf97-8203bc2c016f",
   "metadata": {},
   "source": [
    "## 1.Importing Necessary libraries"
   ]
  },
  {
   "cell_type": "code",
   "execution_count": 1,
   "id": "d5c6fee5-cc70-448d-881c-1d96fba51dd6",
   "metadata": {},
   "outputs": [],
   "source": [
    "# Importing required libraries\n",
    "import seaborn as sns\n",
    "import pandas as pd\n",
    "import matplotlib.pyplot as plt"
   ]
  },
  {
   "cell_type": "markdown",
   "id": "357a525c-588a-47b4-91bc-77d7d041da7b",
   "metadata": {},
   "source": [
    "## 2. Initializing a Spark"
   ]
  },
  {
   "cell_type": "code",
   "execution_count": 2,
   "id": "cc4c4d0e-0e00-4e0a-99e1-7fcb42517bdb",
   "metadata": {},
   "outputs": [
    {
     "name": "stdout",
     "output_type": "stream",
     "text": [
      "Defaulting to user installation because normal site-packages is not writeable\n",
      "Requirement already satisfied: pyspark in /home/amar/.local/lib/python3.10/site-packages (3.4.1)\n",
      "Requirement already satisfied: py4j==0.10.9.7 in /home/amar/.local/lib/python3.10/site-packages (from pyspark) (0.10.9.7)\n"
     ]
    }
   ],
   "source": [
    "# Installing pyspark\n",
    "! pip install pyspark"
   ]
  },
  {
   "cell_type": "code",
   "execution_count": 3,
   "id": "72da95c4-f4af-4f93-b338-9df3ac61f804",
   "metadata": {},
   "outputs": [
    {
     "name": "stderr",
     "output_type": "stream",
     "text": [
      "Setting default log level to \"WARN\".\n",
      "To adjust logging level use sc.setLogLevel(newLevel). For SparkR, use setLogLevel(newLevel).\n",
      "23/09/01 20:21:03 WARN NativeCodeLoader: Unable to load native-hadoop library for your platform... using builtin-java classes where applicable\n",
      "23/09/01 20:21:05 WARN Utils: Service 'SparkUI' could not bind on port 4040. Attempting port 4041.\n"
     ]
    }
   ],
   "source": [
    "# Importing SparkSession\n",
    "from pyspark.sql import SparkSession\n",
    "spark = SparkSession.builder.appName(\"Churn Prediction with PySpark\").getOrCreate()\n"
   ]
  },
  {
   "cell_type": "code",
   "execution_count": 4,
   "id": "f6b08852-a250-4c02-9c79-8d4898c62e96",
   "metadata": {},
   "outputs": [
    {
     "data": {
      "text/html": [
       "\n",
       "            <div>\n",
       "                <p><b>SparkSession - in-memory</b></p>\n",
       "                \n",
       "        <div>\n",
       "            <p><b>SparkContext</b></p>\n",
       "\n",
       "            <p><a href=\"http://krishna:4041\">Spark UI</a></p>\n",
       "\n",
       "            <dl>\n",
       "              <dt>Version</dt>\n",
       "                <dd><code>v3.4.1</code></dd>\n",
       "              <dt>Master</dt>\n",
       "                <dd><code>local[*]</code></dd>\n",
       "              <dt>AppName</dt>\n",
       "                <dd><code>Churn Prediction with PySpark</code></dd>\n",
       "            </dl>\n",
       "        </div>\n",
       "        \n",
       "            </div>\n",
       "        "
      ],
      "text/plain": [
       "<pyspark.sql.session.SparkSession at 0x7f8cd972f790>"
      ]
     },
     "execution_count": 4,
     "metadata": {},
     "output_type": "execute_result"
    }
   ],
   "source": [
    "spark"
   ]
  },
  {
   "cell_type": "markdown",
   "id": "c344b0a3-6020-4c70-8b05-e39f6185baed",
   "metadata": {},
   "source": [
    "## 2. Fetching and Importing Data"
   ]
  },
  {
   "cell_type": "code",
   "execution_count": null,
   "id": "a71e7c25-7f67-4955-9dc1-59265f8733bc",
   "metadata": {},
   "outputs": [],
   "source": []
  },
  {
   "cell_type": "code",
   "execution_count": 5,
   "id": "a3257a15-a64c-4d87-b038-eaee8a5204b8",
   "metadata": {},
   "outputs": [
    {
     "name": "stderr",
     "output_type": "stream",
     "text": [
      "                                                                                \r"
     ]
    }
   ],
   "source": [
    "# Loading data \n",
    "CV_data = spark.read.csv('train.csv', header='true', inferSchema='true')\n",
    "\n",
    "final_test_data = spark.read.csv('test.csv', header='true', inferSchema='true')\n",
    "\n",
    "\n"
   ]
  },
  {
   "cell_type": "code",
   "execution_count": 6,
   "id": "957b3526-6f17-4aa9-be05-9ac531d874fc",
   "metadata": {},
   "outputs": [],
   "source": [
    "df=CV_data"
   ]
  },
  {
   "cell_type": "code",
   "execution_count": 7,
   "id": "2661a93d-7bb9-45c6-9df8-85ba6abe71bf",
   "metadata": {},
   "outputs": [
    {
     "name": "stdout",
     "output_type": "stream",
     "text": [
      "root\n",
      " |-- State: string (nullable = true)\n",
      " |-- Account length: integer (nullable = true)\n",
      " |-- Area code: integer (nullable = true)\n",
      " |-- International plan: string (nullable = true)\n",
      " |-- Voice mail plan: string (nullable = true)\n",
      " |-- Number vmail messages: integer (nullable = true)\n",
      " |-- Total day minutes: double (nullable = true)\n",
      " |-- Total day calls: integer (nullable = true)\n",
      " |-- Total day charge: double (nullable = true)\n",
      " |-- Total eve minutes: double (nullable = true)\n",
      " |-- Total eve calls: integer (nullable = true)\n",
      " |-- Total eve charge: double (nullable = true)\n",
      " |-- Total night minutes: double (nullable = true)\n",
      " |-- Total night calls: integer (nullable = true)\n",
      " |-- Total night charge: double (nullable = true)\n",
      " |-- Total intl minutes: double (nullable = true)\n",
      " |-- Total intl calls: integer (nullable = true)\n",
      " |-- Total intl charge: double (nullable = true)\n",
      " |-- Customer service calls: integer (nullable = true)\n",
      " |-- Churn: boolean (nullable = true)\n",
      "\n"
     ]
    }
   ],
   "source": [
    "# Printing schema of data\n",
    "CV_data.printSchema()"
   ]
  },
  {
   "cell_type": "code",
   "execution_count": 8,
   "id": "d49a60fe-8202-4a50-ac87-56b517f5abdf",
   "metadata": {},
   "outputs": [
    {
     "name": "stderr",
     "output_type": "stream",
     "text": [
      "                                                                                \r"
     ]
    },
    {
     "name": "stdout",
     "output_type": "stream",
     "text": [
      "The training dataset contains 2666 samples.\n",
      "The test dataset contains 667 samples.\n"
     ]
    }
   ],
   "source": [
    "# Printing count of training and testing data\n",
    "print(\"The training dataset contains {} samples.\".format(CV_data.count()))\n",
    "print(\"The test dataset contains {} samples.\".format(final_test_data.count()))"
   ]
  },
  {
   "cell_type": "code",
   "execution_count": 9,
   "id": "938266cb-c3c2-40e1-85ed-0e379b39ddd8",
   "metadata": {},
   "outputs": [
    {
     "name": "stderr",
     "output_type": "stream",
     "text": [
      "                                                                                \r"
     ]
    },
    {
     "data": {
      "text/html": [
       "<div>\n",
       "<style scoped>\n",
       "    .dataframe tbody tr th:only-of-type {\n",
       "        vertical-align: middle;\n",
       "    }\n",
       "\n",
       "    .dataframe tbody tr th {\n",
       "        vertical-align: top;\n",
       "    }\n",
       "\n",
       "    .dataframe thead th {\n",
       "        text-align: right;\n",
       "    }\n",
       "</style>\n",
       "<table border=\"1\" class=\"dataframe\">\n",
       "  <thead>\n",
       "    <tr style=\"text-align: right;\">\n",
       "      <th></th>\n",
       "      <th>0</th>\n",
       "      <th>1</th>\n",
       "      <th>2</th>\n",
       "      <th>3</th>\n",
       "      <th>4</th>\n",
       "    </tr>\n",
       "  </thead>\n",
       "  <tbody>\n",
       "    <tr>\n",
       "      <th>State</th>\n",
       "      <td>KS</td>\n",
       "      <td>OH</td>\n",
       "      <td>NJ</td>\n",
       "      <td>OH</td>\n",
       "      <td>OK</td>\n",
       "    </tr>\n",
       "    <tr>\n",
       "      <th>Account length</th>\n",
       "      <td>128</td>\n",
       "      <td>107</td>\n",
       "      <td>137</td>\n",
       "      <td>84</td>\n",
       "      <td>75</td>\n",
       "    </tr>\n",
       "    <tr>\n",
       "      <th>Area code</th>\n",
       "      <td>415</td>\n",
       "      <td>415</td>\n",
       "      <td>415</td>\n",
       "      <td>408</td>\n",
       "      <td>415</td>\n",
       "    </tr>\n",
       "    <tr>\n",
       "      <th>International plan</th>\n",
       "      <td>No</td>\n",
       "      <td>No</td>\n",
       "      <td>No</td>\n",
       "      <td>Yes</td>\n",
       "      <td>Yes</td>\n",
       "    </tr>\n",
       "    <tr>\n",
       "      <th>Voice mail plan</th>\n",
       "      <td>Yes</td>\n",
       "      <td>Yes</td>\n",
       "      <td>No</td>\n",
       "      <td>No</td>\n",
       "      <td>No</td>\n",
       "    </tr>\n",
       "    <tr>\n",
       "      <th>Number vmail messages</th>\n",
       "      <td>25</td>\n",
       "      <td>26</td>\n",
       "      <td>0</td>\n",
       "      <td>0</td>\n",
       "      <td>0</td>\n",
       "    </tr>\n",
       "    <tr>\n",
       "      <th>Total day minutes</th>\n",
       "      <td>265.1</td>\n",
       "      <td>161.6</td>\n",
       "      <td>243.4</td>\n",
       "      <td>299.4</td>\n",
       "      <td>166.7</td>\n",
       "    </tr>\n",
       "    <tr>\n",
       "      <th>Total day calls</th>\n",
       "      <td>110</td>\n",
       "      <td>123</td>\n",
       "      <td>114</td>\n",
       "      <td>71</td>\n",
       "      <td>113</td>\n",
       "    </tr>\n",
       "    <tr>\n",
       "      <th>Total day charge</th>\n",
       "      <td>45.07</td>\n",
       "      <td>27.47</td>\n",
       "      <td>41.38</td>\n",
       "      <td>50.9</td>\n",
       "      <td>28.34</td>\n",
       "    </tr>\n",
       "    <tr>\n",
       "      <th>Total eve minutes</th>\n",
       "      <td>197.4</td>\n",
       "      <td>195.5</td>\n",
       "      <td>121.2</td>\n",
       "      <td>61.9</td>\n",
       "      <td>148.3</td>\n",
       "    </tr>\n",
       "    <tr>\n",
       "      <th>Total eve calls</th>\n",
       "      <td>99</td>\n",
       "      <td>103</td>\n",
       "      <td>110</td>\n",
       "      <td>88</td>\n",
       "      <td>122</td>\n",
       "    </tr>\n",
       "    <tr>\n",
       "      <th>Total eve charge</th>\n",
       "      <td>16.78</td>\n",
       "      <td>16.62</td>\n",
       "      <td>10.3</td>\n",
       "      <td>5.26</td>\n",
       "      <td>12.61</td>\n",
       "    </tr>\n",
       "    <tr>\n",
       "      <th>Total night minutes</th>\n",
       "      <td>244.7</td>\n",
       "      <td>254.4</td>\n",
       "      <td>162.6</td>\n",
       "      <td>196.9</td>\n",
       "      <td>186.9</td>\n",
       "    </tr>\n",
       "    <tr>\n",
       "      <th>Total night calls</th>\n",
       "      <td>91</td>\n",
       "      <td>103</td>\n",
       "      <td>104</td>\n",
       "      <td>89</td>\n",
       "      <td>121</td>\n",
       "    </tr>\n",
       "    <tr>\n",
       "      <th>Total night charge</th>\n",
       "      <td>11.01</td>\n",
       "      <td>11.45</td>\n",
       "      <td>7.32</td>\n",
       "      <td>8.86</td>\n",
       "      <td>8.41</td>\n",
       "    </tr>\n",
       "    <tr>\n",
       "      <th>Total intl minutes</th>\n",
       "      <td>10.0</td>\n",
       "      <td>13.7</td>\n",
       "      <td>12.2</td>\n",
       "      <td>6.6</td>\n",
       "      <td>10.1</td>\n",
       "    </tr>\n",
       "    <tr>\n",
       "      <th>Total intl calls</th>\n",
       "      <td>3</td>\n",
       "      <td>3</td>\n",
       "      <td>5</td>\n",
       "      <td>7</td>\n",
       "      <td>3</td>\n",
       "    </tr>\n",
       "    <tr>\n",
       "      <th>Total intl charge</th>\n",
       "      <td>2.7</td>\n",
       "      <td>3.7</td>\n",
       "      <td>3.29</td>\n",
       "      <td>1.78</td>\n",
       "      <td>2.73</td>\n",
       "    </tr>\n",
       "    <tr>\n",
       "      <th>Customer service calls</th>\n",
       "      <td>1</td>\n",
       "      <td>1</td>\n",
       "      <td>0</td>\n",
       "      <td>2</td>\n",
       "      <td>3</td>\n",
       "    </tr>\n",
       "    <tr>\n",
       "      <th>Churn</th>\n",
       "      <td>False</td>\n",
       "      <td>False</td>\n",
       "      <td>False</td>\n",
       "      <td>False</td>\n",
       "      <td>False</td>\n",
       "    </tr>\n",
       "  </tbody>\n",
       "</table>\n",
       "</div>"
      ],
      "text/plain": [
       "                            0      1      2      3      4\n",
       "State                      KS     OH     NJ     OH     OK\n",
       "Account length            128    107    137     84     75\n",
       "Area code                 415    415    415    408    415\n",
       "International plan         No     No     No    Yes    Yes\n",
       "Voice mail plan           Yes    Yes     No     No     No\n",
       "Number vmail messages      25     26      0      0      0\n",
       "Total day minutes       265.1  161.6  243.4  299.4  166.7\n",
       "Total day calls           110    123    114     71    113\n",
       "Total day charge        45.07  27.47  41.38   50.9  28.34\n",
       "Total eve minutes       197.4  195.5  121.2   61.9  148.3\n",
       "Total eve calls            99    103    110     88    122\n",
       "Total eve charge        16.78  16.62   10.3   5.26  12.61\n",
       "Total night minutes     244.7  254.4  162.6  196.9  186.9\n",
       "Total night calls          91    103    104     89    121\n",
       "Total night charge      11.01  11.45   7.32   8.86   8.41\n",
       "Total intl minutes       10.0   13.7   12.2    6.6   10.1\n",
       "Total intl calls            3      3      5      7      3\n",
       "Total intl charge         2.7    3.7   3.29   1.78   2.73\n",
       "Customer service calls      1      1      0      2      3\n",
       "Churn                   False  False  False  False  False"
      ]
     },
     "execution_count": 9,
     "metadata": {},
     "output_type": "execute_result"
    }
   ],
   "source": [
    "# Displaying transpose of data\n",
    "CV_data.select(\"*\").toPandas().head().transpose()"
   ]
  },
  {
   "cell_type": "markdown",
   "id": "c70d8841-dbbb-4f22-980c-d2f69cf36dfc",
   "metadata": {},
   "source": [
    "## 3. Summary statistics"
   ]
  },
  {
   "cell_type": "code",
   "execution_count": 10,
   "id": "4a78e496-a3a6-4465-afa2-7b4386cf7f31",
   "metadata": {},
   "outputs": [
    {
     "name": "stderr",
     "output_type": "stream",
     "text": [
      "23/09/01 20:21:28 WARN package: Truncated the string representation of a plan since it was too large. This behavior can be adjusted by setting 'spark.sql.debug.maxToStringFields'.\n",
      "                                                                                \r"
     ]
    },
    {
     "data": {
      "text/html": [
       "<div>\n",
       "<style scoped>\n",
       "    .dataframe tbody tr th:only-of-type {\n",
       "        vertical-align: middle;\n",
       "    }\n",
       "\n",
       "    .dataframe tbody tr th {\n",
       "        vertical-align: top;\n",
       "    }\n",
       "\n",
       "    .dataframe thead th {\n",
       "        text-align: right;\n",
       "    }\n",
       "</style>\n",
       "<table border=\"1\" class=\"dataframe\">\n",
       "  <thead>\n",
       "    <tr style=\"text-align: right;\">\n",
       "      <th></th>\n",
       "      <th>0</th>\n",
       "      <th>1</th>\n",
       "      <th>2</th>\n",
       "      <th>3</th>\n",
       "      <th>4</th>\n",
       "    </tr>\n",
       "  </thead>\n",
       "  <tbody>\n",
       "    <tr>\n",
       "      <th>summary</th>\n",
       "      <td>count</td>\n",
       "      <td>mean</td>\n",
       "      <td>stddev</td>\n",
       "      <td>min</td>\n",
       "      <td>max</td>\n",
       "    </tr>\n",
       "    <tr>\n",
       "      <th>Account length</th>\n",
       "      <td>2666</td>\n",
       "      <td>100.62040510127532</td>\n",
       "      <td>39.56397365334985</td>\n",
       "      <td>1</td>\n",
       "      <td>243</td>\n",
       "    </tr>\n",
       "    <tr>\n",
       "      <th>Area code</th>\n",
       "      <td>2666</td>\n",
       "      <td>437.43885971492875</td>\n",
       "      <td>42.521018019427174</td>\n",
       "      <td>408</td>\n",
       "      <td>510</td>\n",
       "    </tr>\n",
       "    <tr>\n",
       "      <th>Number vmail messages</th>\n",
       "      <td>2666</td>\n",
       "      <td>8.021755438859715</td>\n",
       "      <td>13.61227701829193</td>\n",
       "      <td>0</td>\n",
       "      <td>50</td>\n",
       "    </tr>\n",
       "    <tr>\n",
       "      <th>Total day minutes</th>\n",
       "      <td>2666</td>\n",
       "      <td>179.48162040510135</td>\n",
       "      <td>54.21035022086982</td>\n",
       "      <td>0.0</td>\n",
       "      <td>350.8</td>\n",
       "    </tr>\n",
       "    <tr>\n",
       "      <th>Total day calls</th>\n",
       "      <td>2666</td>\n",
       "      <td>100.31020255063765</td>\n",
       "      <td>19.988162186059512</td>\n",
       "      <td>0</td>\n",
       "      <td>160</td>\n",
       "    </tr>\n",
       "    <tr>\n",
       "      <th>Total day charge</th>\n",
       "      <td>2666</td>\n",
       "      <td>30.512404351087813</td>\n",
       "      <td>9.215732907163497</td>\n",
       "      <td>0.0</td>\n",
       "      <td>59.64</td>\n",
       "    </tr>\n",
       "    <tr>\n",
       "      <th>Total eve minutes</th>\n",
       "      <td>2666</td>\n",
       "      <td>200.38615903976006</td>\n",
       "      <td>50.95151511764598</td>\n",
       "      <td>0.0</td>\n",
       "      <td>363.7</td>\n",
       "    </tr>\n",
       "    <tr>\n",
       "      <th>Total eve calls</th>\n",
       "      <td>2666</td>\n",
       "      <td>100.02363090772693</td>\n",
       "      <td>20.16144511531889</td>\n",
       "      <td>0</td>\n",
       "      <td>170</td>\n",
       "    </tr>\n",
       "    <tr>\n",
       "      <th>Total eve charge</th>\n",
       "      <td>2666</td>\n",
       "      <td>17.033072018004518</td>\n",
       "      <td>4.330864176799864</td>\n",
       "      <td>0.0</td>\n",
       "      <td>30.91</td>\n",
       "    </tr>\n",
       "    <tr>\n",
       "      <th>Total night minutes</th>\n",
       "      <td>2666</td>\n",
       "      <td>201.16894223555968</td>\n",
       "      <td>50.780323368725206</td>\n",
       "      <td>43.7</td>\n",
       "      <td>395.0</td>\n",
       "    </tr>\n",
       "    <tr>\n",
       "      <th>Total night calls</th>\n",
       "      <td>2666</td>\n",
       "      <td>100.10615153788447</td>\n",
       "      <td>19.418458551101697</td>\n",
       "      <td>33</td>\n",
       "      <td>166</td>\n",
       "    </tr>\n",
       "    <tr>\n",
       "      <th>Total night charge</th>\n",
       "      <td>2666</td>\n",
       "      <td>9.052689422355604</td>\n",
       "      <td>2.2851195129157564</td>\n",
       "      <td>1.97</td>\n",
       "      <td>17.77</td>\n",
       "    </tr>\n",
       "    <tr>\n",
       "      <th>Total intl minutes</th>\n",
       "      <td>2666</td>\n",
       "      <td>10.23702175543886</td>\n",
       "      <td>2.7883485770512566</td>\n",
       "      <td>0.0</td>\n",
       "      <td>20.0</td>\n",
       "    </tr>\n",
       "    <tr>\n",
       "      <th>Total intl calls</th>\n",
       "      <td>2666</td>\n",
       "      <td>4.467366841710428</td>\n",
       "      <td>2.4561949030129466</td>\n",
       "      <td>0</td>\n",
       "      <td>20</td>\n",
       "    </tr>\n",
       "    <tr>\n",
       "      <th>Total intl charge</th>\n",
       "      <td>2666</td>\n",
       "      <td>2.764489872468112</td>\n",
       "      <td>0.7528120531228477</td>\n",
       "      <td>0.0</td>\n",
       "      <td>5.4</td>\n",
       "    </tr>\n",
       "    <tr>\n",
       "      <th>Customer service calls</th>\n",
       "      <td>2666</td>\n",
       "      <td>1.5626406601650413</td>\n",
       "      <td>1.3112357589949093</td>\n",
       "      <td>0</td>\n",
       "      <td>9</td>\n",
       "    </tr>\n",
       "  </tbody>\n",
       "</table>\n",
       "</div>"
      ],
      "text/plain": [
       "                            0                   1                   2     3  \\\n",
       "summary                 count                mean              stddev   min   \n",
       "Account length           2666  100.62040510127532   39.56397365334985     1   \n",
       "Area code                2666  437.43885971492875  42.521018019427174   408   \n",
       "Number vmail messages    2666   8.021755438859715   13.61227701829193     0   \n",
       "Total day minutes        2666  179.48162040510135   54.21035022086982   0.0   \n",
       "Total day calls          2666  100.31020255063765  19.988162186059512     0   \n",
       "Total day charge         2666  30.512404351087813   9.215732907163497   0.0   \n",
       "Total eve minutes        2666  200.38615903976006   50.95151511764598   0.0   \n",
       "Total eve calls          2666  100.02363090772693   20.16144511531889     0   \n",
       "Total eve charge         2666  17.033072018004518   4.330864176799864   0.0   \n",
       "Total night minutes      2666  201.16894223555968  50.780323368725206  43.7   \n",
       "Total night calls        2666  100.10615153788447  19.418458551101697    33   \n",
       "Total night charge       2666   9.052689422355604  2.2851195129157564  1.97   \n",
       "Total intl minutes       2666   10.23702175543886  2.7883485770512566   0.0   \n",
       "Total intl calls         2666   4.467366841710428  2.4561949030129466     0   \n",
       "Total intl charge        2666   2.764489872468112  0.7528120531228477   0.0   \n",
       "Customer service calls   2666  1.5626406601650413  1.3112357589949093     0   \n",
       "\n",
       "                            4  \n",
       "summary                   max  \n",
       "Account length            243  \n",
       "Area code                 510  \n",
       "Number vmail messages      50  \n",
       "Total day minutes       350.8  \n",
       "Total day calls           160  \n",
       "Total day charge        59.64  \n",
       "Total eve minutes       363.7  \n",
       "Total eve calls           170  \n",
       "Total eve charge        30.91  \n",
       "Total night minutes     395.0  \n",
       "Total night calls         166  \n",
       "Total night charge      17.77  \n",
       "Total intl minutes       20.0  \n",
       "Total intl calls           20  \n",
       "Total intl charge         5.4  \n",
       "Customer service calls      9  "
      ]
     },
     "execution_count": 10,
     "metadata": {},
     "output_type": "execute_result"
    }
   ],
   "source": [
    "# Calculate summary statistics and transpose it\n",
    "numeric_features = [t[0] for t in CV_data.dtypes if t[1] == 'int' or t[1] == 'double']\n",
    "\n",
    "CV_data.describe(numeric_features).toPandas().transpose()\n"
   ]
  },
  {
   "cell_type": "markdown",
   "id": "b9c6199e-4145-48b5-b275-7198a2a31fea",
   "metadata": {},
   "source": [
    "## 4. Correlations and Data Preparations"
   ]
  },
  {
   "cell_type": "code",
   "execution_count": 11,
   "id": "af9b5e76-c00b-4245-b12f-1d9a3a5b16d2",
   "metadata": {},
   "outputs": [
    {
     "data": {
      "image/png": "[encoded data removed]",
      "text/plain": [
       "<Figure size 2000x1000 with 2 Axes>"
      ]
     },
     "metadata": {},
     "output_type": "display_data"
    }
   ],
   "source": [
    "# Displaying Heatmap for Numeric features\n",
    "data = CV_data.toPandas()\n",
    "plt.rcParams[\"figure.figsize\"] = (20,10)\n",
    "sns.heatmap(data[:].corr(numeric_only=True),annot = True)\n",
    "plt.title(\"Heatmap of data\",fontsize= 15)\n",
    "plt.show()\n"
   ]
  },
  {
   "cell_type": "code",
   "execution_count": null,
   "id": "8a5a4ba7-f968-4a5d-be01-ea92dbdd3a7f",
   "metadata": {},
   "outputs": [],
   "source": []
  },
  {
   "cell_type": "code",
   "execution_count": 12,
   "id": "70a93282-36fd-41de-8c66-af0329ba7811",
   "metadata": {},
   "outputs": [],
   "source": [
    "\n",
    "# Function for converting and removing columns\n",
    "def get_data(df, removeCols):\n",
    "    df = df.drop(*removeCols) \\\n",
    "        .withColumn(\"Churn\", when(df[\"Churn\"] == 'true', 1.0).otherwise(0.0)) \\\n",
    "        .withColumn('International plan', when(df[\"International plan\"] == 'Yes', 1.0).otherwise(0.0)) \\\n",
    "        .withColumn('Voice mail plan', when(df[\"Voice mail plan\"] == 'Yes', 1.0).otherwise(0.0))\n",
    "    return df\n",
    "\n"
   ]
  },
  {
   "cell_type": "code",
   "execution_count": 13,
   "id": "29948d0c-b7aa-48d8-9c04-b69883999933",
   "metadata": {},
   "outputs": [],
   "source": [
    "# Importing pyspark.sql.functions for data manipulation and removing columns\n",
    "from pyspark.sql.functions import split, col, round, when\n",
    "\n",
    "removeCols = ['State', 'Area code', 'Total day charge', 'Total eve charge', 'Total night charge', 'Total intl charge']\n",
    "\n",
    "# Removing columns of training and testing data\n",
    "CV_data = get_data(CV_data, removeCols=removeCols)\n",
    "final_test_data = get_data(final_test_data, removeCols=removeCols)"
   ]
  },
  {
   "cell_type": "code",
   "execution_count": null,
   "id": "7338b28f-67d8-4770-8b2e-1b585ea916ad",
   "metadata": {},
   "outputs": [],
   "source": []
  },
  {
   "cell_type": "code",
   "execution_count": 14,
   "id": "6f6d36a4-b03c-4756-8464-d3818fe9fab3",
   "metadata": {},
   "outputs": [
    {
     "data": {
      "text/html": [
       "<div>\n",
       "<style scoped>\n",
       "    .dataframe tbody tr th:only-of-type {\n",
       "        vertical-align: middle;\n",
       "    }\n",
       "\n",
       "    .dataframe tbody tr th {\n",
       "        vertical-align: top;\n",
       "    }\n",
       "\n",
       "    .dataframe thead th {\n",
       "        text-align: right;\n",
       "    }\n",
       "</style>\n",
       "<table border=\"1\" class=\"dataframe\">\n",
       "  <thead>\n",
       "    <tr style=\"text-align: right;\">\n",
       "      <th></th>\n",
       "      <th>0</th>\n",
       "      <th>1</th>\n",
       "      <th>2</th>\n",
       "      <th>3</th>\n",
       "      <th>4</th>\n",
       "    </tr>\n",
       "  </thead>\n",
       "  <tbody>\n",
       "    <tr>\n",
       "      <th>Account length</th>\n",
       "      <td>128.0</td>\n",
       "      <td>107.0</td>\n",
       "      <td>137.0</td>\n",
       "      <td>84.0</td>\n",
       "      <td>75.0</td>\n",
       "    </tr>\n",
       "    <tr>\n",
       "      <th>International plan</th>\n",
       "      <td>0.0</td>\n",
       "      <td>0.0</td>\n",
       "      <td>0.0</td>\n",
       "      <td>1.0</td>\n",
       "      <td>1.0</td>\n",
       "    </tr>\n",
       "    <tr>\n",
       "      <th>Voice mail plan</th>\n",
       "      <td>1.0</td>\n",
       "      <td>1.0</td>\n",
       "      <td>0.0</td>\n",
       "      <td>0.0</td>\n",
       "      <td>0.0</td>\n",
       "    </tr>\n",
       "    <tr>\n",
       "      <th>Number vmail messages</th>\n",
       "      <td>25.0</td>\n",
       "      <td>26.0</td>\n",
       "      <td>0.0</td>\n",
       "      <td>0.0</td>\n",
       "      <td>0.0</td>\n",
       "    </tr>\n",
       "    <tr>\n",
       "      <th>Total day minutes</th>\n",
       "      <td>265.1</td>\n",
       "      <td>161.6</td>\n",
       "      <td>243.4</td>\n",
       "      <td>299.4</td>\n",
       "      <td>166.7</td>\n",
       "    </tr>\n",
       "    <tr>\n",
       "      <th>Total day calls</th>\n",
       "      <td>110.0</td>\n",
       "      <td>123.0</td>\n",
       "      <td>114.0</td>\n",
       "      <td>71.0</td>\n",
       "      <td>113.0</td>\n",
       "    </tr>\n",
       "    <tr>\n",
       "      <th>Total eve minutes</th>\n",
       "      <td>197.4</td>\n",
       "      <td>195.5</td>\n",
       "      <td>121.2</td>\n",
       "      <td>61.9</td>\n",
       "      <td>148.3</td>\n",
       "    </tr>\n",
       "    <tr>\n",
       "      <th>Total eve calls</th>\n",
       "      <td>99.0</td>\n",
       "      <td>103.0</td>\n",
       "      <td>110.0</td>\n",
       "      <td>88.0</td>\n",
       "      <td>122.0</td>\n",
       "    </tr>\n",
       "    <tr>\n",
       "      <th>Total night minutes</th>\n",
       "      <td>244.7</td>\n",
       "      <td>254.4</td>\n",
       "      <td>162.6</td>\n",
       "      <td>196.9</td>\n",
       "      <td>186.9</td>\n",
       "    </tr>\n",
       "    <tr>\n",
       "      <th>Total night calls</th>\n",
       "      <td>91.0</td>\n",
       "      <td>103.0</td>\n",
       "      <td>104.0</td>\n",
       "      <td>89.0</td>\n",
       "      <td>121.0</td>\n",
       "    </tr>\n",
       "    <tr>\n",
       "      <th>Total intl minutes</th>\n",
       "      <td>10.0</td>\n",
       "      <td>13.7</td>\n",
       "      <td>12.2</td>\n",
       "      <td>6.6</td>\n",
       "      <td>10.1</td>\n",
       "    </tr>\n",
       "    <tr>\n",
       "      <th>Total intl calls</th>\n",
       "      <td>3.0</td>\n",
       "      <td>3.0</td>\n",
       "      <td>5.0</td>\n",
       "      <td>7.0</td>\n",
       "      <td>3.0</td>\n",
       "    </tr>\n",
       "    <tr>\n",
       "      <th>Customer service calls</th>\n",
       "      <td>1.0</td>\n",
       "      <td>1.0</td>\n",
       "      <td>0.0</td>\n",
       "      <td>2.0</td>\n",
       "      <td>3.0</td>\n",
       "    </tr>\n",
       "    <tr>\n",
       "      <th>Churn</th>\n",
       "      <td>0.0</td>\n",
       "      <td>0.0</td>\n",
       "      <td>0.0</td>\n",
       "      <td>0.0</td>\n",
       "      <td>0.0</td>\n",
       "    </tr>\n",
       "  </tbody>\n",
       "</table>\n",
       "</div>"
      ],
      "text/plain": [
       "                            0      1      2      3      4\n",
       "Account length          128.0  107.0  137.0   84.0   75.0\n",
       "International plan        0.0    0.0    0.0    1.0    1.0\n",
       "Voice mail plan           1.0    1.0    0.0    0.0    0.0\n",
       "Number vmail messages    25.0   26.0    0.0    0.0    0.0\n",
       "Total day minutes       265.1  161.6  243.4  299.4  166.7\n",
       "Total day calls         110.0  123.0  114.0   71.0  113.0\n",
       "Total eve minutes       197.4  195.5  121.2   61.9  148.3\n",
       "Total eve calls          99.0  103.0  110.0   88.0  122.0\n",
       "Total night minutes     244.7  254.4  162.6  196.9  186.9\n",
       "Total night calls        91.0  103.0  104.0   89.0  121.0\n",
       "Total intl minutes       10.0   13.7   12.2    6.6   10.1\n",
       "Total intl calls          3.0    3.0    5.0    7.0    3.0\n",
       "Customer service calls    1.0    1.0    0.0    2.0    3.0\n",
       "Churn                     0.0    0.0    0.0    0.0    0.0"
      ]
     },
     "execution_count": 14,
     "metadata": {},
     "output_type": "execute_result"
    }
   ],
   "source": [
    "# Transposing the data\n",
    "pd.DataFrame(CV_data.take(5), columns=CV_data.columns).transpose()\n",
    "\n"
   ]
  },
  {
   "cell_type": "markdown",
   "id": "c32784b0-7647-4c4e-a315-e7a7a93afc39",
   "metadata": {},
   "source": [
    "## 5. Using Spark MLib Package"
   ]
  },
  {
   "cell_type": "markdown",
   "id": "53d66f12-eb56-4bcc-a2bb-0ce7da3e6a8e",
   "metadata": {},
   "source": [
    "### 5.2 Model training"
   ]
  },
  {
   "cell_type": "code",
   "execution_count": 15,
   "id": "b4f1946e-86af-4c7f-a1a6-6e1f9811d197",
   "metadata": {},
   "outputs": [
    {
     "name": "stdout",
     "output_type": "stream",
     "text": [
      "The two first rows of the training data RDD:\n"
     ]
    },
    {
     "name": "stderr",
     "output_type": "stream",
     "text": [
      "                                                                                \r"
     ]
    },
    {
     "name": "stdout",
     "output_type": "stream",
     "text": [
      "[LabeledPoint(0.0, [128.0,0.0,1.0,25.0,265.1,110.0,197.4,99.0,244.7,91.0,10.0,3.0,1.0]), LabeledPoint(0.0, [107.0,0.0,1.0,26.0,161.6,123.0,195.5,103.0,254.4,103.0,13.7,3.0,1.0])]\n",
      "============================\n"
     ]
    },
    {
     "name": "stderr",
     "output_type": "stream",
     "text": [
      "                                                                                \r"
     ]
    },
    {
     "name": "stdout",
     "output_type": "stream",
     "text": [
      "DecisionTreeModel classifier of depth 2 with 7 nodes\n",
      "  If (feature 12 <= 3.5)\n",
      "   If (feature 4 <= 262.0)\n",
      "    Predict: 0.0\n",
      "   Else (feature 4 > 262.0)\n",
      "    Predict: 1.0\n",
      "  Else (feature 12 > 3.5)\n",
      "   If (feature 4 <= 171.64999999999998)\n",
      "    Predict: 1.0\n",
      "   Else (feature 4 > 171.64999999999998)\n",
      "    Predict: 0.0\n",
      "\n"
     ]
    }
   ],
   "source": [
    "#Importing  labelledpoint and decision tree from mllib library\n",
    "from pyspark.mllib.regression import LabeledPoint\n",
    "from pyspark.mllib.tree import DecisionTree\n",
    "\n",
    "# Convert DataFrame into a LabeledPoint\n",
    "def labelData(data):\n",
    "    # label: row[end], features: row[0:end-1]\n",
    "    return data.rdd.map(lambda row: LabeledPoint(row[-1], row[:-1]))\n",
    "\n",
    "# Spliting the data\n",
    "training_data, testing_data = labelData(CV_data).randomSplit([0.8, 0.2])\n",
    "\n",
    "# Printing the first two rows\n",
    "print(\"The two first rows of the training data RDD:\")\n",
    "print(training_data.take(2))\n",
    "print(\"============================\")\n",
    "\n",
    "# Train a Decision Tree classifier model\n",
    "model = DecisionTree.trainClassifier(training_data, numClasses=2, maxDepth=2,\n",
    "                                     categoricalFeaturesInfo={1:2, 2:2},\n",
    "                                    impurity='gini', maxBins=32)\n",
    "# Print debug string\n",
    "print(model.toDebugString())"
   ]
  },
  {
   "cell_type": "code",
   "execution_count": 16,
   "id": "7162714f-8e68-4b8d-b078-4a601667207c",
   "metadata": {},
   "outputs": [
    {
     "name": "stdout",
     "output_type": "stream",
     "text": [
      "Feature 12 is the Customer service calls.\n",
      "Feature 4 is the Total day minutes.\n"
     ]
    }
   ],
   "source": [
    "# Displaying significant features\n",
    "print(\"Feature 12 is the {}.\".format(CV_data.columns[12]))\n",
    "print(\"Feature 4 is the {}.\".format(CV_data.columns[4]))"
   ]
  },
  {
   "cell_type": "markdown",
   "id": "1e4e1611-d977-4b8a-8b76-146de7a635e8",
   "metadata": {},
   "source": [
    "### 5.3 Model Evaluation"
   ]
  },
  {
   "cell_type": "code",
   "execution_count": 17,
   "id": "206fd564-6cb0-406d-ae9a-d5cb24de5d7f",
   "metadata": {},
   "outputs": [],
   "source": [
    "#  Prints various classification metrics based on the predictions made by a machine learning model.\n",
    "def printAllMetrics(predictionsDF):\n",
    "    TP = predictionsDF.select(\"label\", \"predictedLabel\").filter(\"label == 1.0 and predictedLabel == 1.0\").count()\n",
    "    FN = predictionsDF.select(\"label\", \"predictedLabel\").filter(\"label == 1.0 and predictedLabel == 0.0\").count()\n",
    "    TN = predictionsDF.select(\"label\", \"predictedLabel\").filter(\"label == 0.0 and predictedLabel == 0.0\").count()\n",
    "    FP = predictionsDF.select(\"label\", \"predictedLabel\").filter(\"label == 0.0 and predictedLabel == 1.0\").count()\n",
    "\n",
    "    precision_p   = TP/(TP+FP)\n",
    "    precision_n   = TN/(TN+FN)\n",
    "    recall_p      = TP/(TP+FN)\n",
    "    recall_n      = TN/(TN+FP)\n",
    "    f1_p          = 2*precision_p*recall_p/(precision_p+recall_p)\n",
    "    f1_n          = 2*precision_n*recall_n/(precision_n+recall_n)\n",
    "    avg_precision = (precision_p*(TP+FN)+precision_n*(TN+FP))/(TP+FN+TN+FP)\n",
    "    avg_recall    = (recall_p*(TP+FN)+recall_n*(TN+FP))/(TP+FN+TN+FP)\n",
    "    avg_f1        = (f1_p*(TP+FN)+f1_n*(TN+FP))/(TP+FN+TN+FP)\n",
    "    accuracy      = (TN+TP)/(TP+FN+TN+FP)\n",
    "\n",
    "    print('Precision of True    ', precision_p)\n",
    "    print('Precision of False   ', precision_n)\n",
    "    print('** Avg Precision     ', avg_precision)\n",
    "    print('Recall of True       ', recall_p)\n",
    "    print('Recall of False      ', recall_n)\n",
    "    print('** Avg Recall        ', avg_recall)\n",
    "    print('F1 of True           ', f1_p)\n",
    "    print('F1 of False          ', f1_n)\n",
    "    print('** Avg F1            ', avg_f1)\n",
    "    print('** Accuracy          ', accuracy)"
   ]
  },
  {
   "cell_type": "code",
   "execution_count": 19,
   "id": "a5393d7d-e6bc-4edd-8f91-61dce13fbc44",
   "metadata": {},
   "outputs": [
    {
     "name": "stderr",
     "output_type": "stream",
     "text": [
      "/home/amar/.local/lib/python3.10/site-packages/pyspark/sql/context.py:157: FutureWarning: Deprecated in 3.0.0. Use SparkSession.builder.getOrCreate() instead.\n",
      "  warnings.warn(\n",
      "                                                                                \r"
     ]
    },
    {
     "name": "stdout",
     "output_type": "stream",
     "text": [
      "Confusion Matrix\n",
      " [[437.   5.]\n",
      " [ 40.  33.]]\n",
      "Precision of True     0.868421052631579\n",
      "Precision of False    0.9161425576519916\n",
      "Weighted Precision    0.9093781501442438\n",
      "Recall of True        0.4520547945205479\n",
      "Recall of False       0.9886877828054299\n",
      "Weighted Recall       0.912621359223301\n",
      "FMeasure of True      0.5945945945945946\n",
      "FMeasure of False     0.9510337323177367\n",
      "Weighted fMeasure     0.9005093496890195\n",
      "Accuracy              0.912621359223301\n"
     ]
    }
   ],
   "source": [
    "# Importing Multiclassmetric for evaluating a machine learning model's performance,\n",
    "from pyspark.mllib.evaluation import MulticlassMetrics\n",
    "\n",
    "# Takes a trained model and a test dataset as input.\n",
    "def getPredictionsLabels(model, test_data):\n",
    "    predictions = model.predict(test_data.map(lambda r: r.features))\n",
    "    return predictions.zip(test_data.map(lambda r: r.label))\n",
    "\n",
    "# Calculates and prints various classification metrics\n",
    "def printMetrics(predictions_and_labels):\n",
    "    metrics = MulticlassMetrics(predictions_and_labels)\n",
    "    print('Confusion Matrix\\n', metrics.confusionMatrix().toArray())\n",
    "    print('Precision of True    ', metrics.precision(1))\n",
    "    print('Precision of False   ', metrics.precision(0))\n",
    "    print('Weighted Precision   ', metrics.weightedPrecision)\n",
    "    print('Recall of True       ', metrics.recall(1))\n",
    "    print('Recall of False      ', metrics.recall(0))\n",
    "    print('Weighted Recall      ', metrics.weightedRecall) \n",
    "    print('FMeasure of True     ', metrics.fMeasure(1.0, 1.0))\n",
    "    print('FMeasure of False    ', metrics.fMeasure(0.0, 1.0))\n",
    "    print('Weighted fMeasure    ', metrics.weightedFMeasure())\n",
    "    print('Accuracy             ', metrics.accuracy)\n",
    "\n",
    "# Get the predicted labels and true labels for the test data.\n",
    "predictions_and_labels = getPredictionsLabels(model, testing_data)\n",
    "\n",
    "# Calculates and print the various metrics\n",
    "printMetrics(predictions_and_labels)"
   ]
  },
  {
   "cell_type": "code",
   "execution_count": 20,
   "id": "9d69ba2d-f6f7-4f3c-a34d-c3efada229a8",
   "metadata": {},
   "outputs": [
    {
     "name": "stderr",
     "output_type": "stream",
     "text": [
      "                                                                                \r"
     ]
    },
    {
     "name": "stdout",
     "output_type": "stream",
     "text": [
      "+-----+--------------+-----+\n",
      "|label|predictedLabel|count|\n",
      "+-----+--------------+-----+\n",
      "|  1.0|           1.0|   33|\n",
      "|  0.0|           1.0|    5|\n",
      "|  1.0|           0.0|   40|\n",
      "|  0.0|           0.0|  437|\n",
      "+-----+--------------+-----+\n",
      "\n",
      "========================================\n"
     ]
    },
    {
     "name": "stderr",
     "output_type": "stream",
     "text": [
      "[Stage 45:>                                                         (0 + 1) / 1]\r"
     ]
    },
    {
     "name": "stdout",
     "output_type": "stream",
     "text": [
      "Precision of True     0.868421052631579\n",
      "Precision of False    0.9161425576519916\n",
      "** Avg Precision      0.9093781501442438\n",
      "Recall of True        0.4520547945205479\n",
      "Recall of False       0.9886877828054299\n",
      "** Avg Recall         0.912621359223301\n",
      "F1 of True            0.5945945945945946\n",
      "F1 of False           0.9510337323177367\n",
      "** Avg F1             0.9005093496890195\n",
      "** Accuracy           0.912621359223301\n"
     ]
    },
    {
     "name": "stderr",
     "output_type": "stream",
     "text": [
      "                                                                                \r"
     ]
    }
   ],
   "source": [
    "\n",
    "# Analyze and evaluate the model's predictions \n",
    "predictionsdf = predictions_and_labels.toDF([\"predictedLabel\",\"label\"])\n",
    "\n",
    "predictionsdf.groupBy('label', 'predictedLabel').count().show()\n",
    "print(\"========================================\")\n",
    "\n",
    "printAllMetrics(predictionsdf)\n",
    "\n"
   ]
  },
  {
   "cell_type": "code",
   "execution_count": 21,
   "id": "9ca65382-054d-4d41-9765-e2750a7d9a1e",
   "metadata": {},
   "outputs": [
    {
     "name": "stdout",
     "output_type": "stream",
     "text": [
      "+-----+-----+\n",
      "|Churn|count|\n",
      "+-----+-----+\n",
      "|  0.0| 2278|\n",
      "|  1.0|  388|\n",
      "+-----+-----+\n",
      "\n"
     ]
    }
   ],
   "source": [
    "# Counts the number of occurrences \n",
    "CV_data.groupby('Churn').count().show()\n",
    "\n"
   ]
  },
  {
   "cell_type": "markdown",
   "id": "6d1aaa86-781a-43dd-bae2-de80ae436dc7",
   "metadata": {},
   "source": [
    "### Stratified Sampling"
   ]
  },
  {
   "cell_type": "code",
   "execution_count": 22,
   "id": "ffc26117-6d09-4275-bd99-a2366ad51e16",
   "metadata": {},
   "outputs": [
    {
     "name": "stdout",
     "output_type": "stream",
     "text": [
      "+-----+-----+\n",
      "|Churn|count|\n",
      "+-----+-----+\n",
      "|  0.0|  388|\n",
      "|  1.0|  388|\n",
      "+-----+-----+\n",
      "\n"
     ]
    }
   ],
   "source": [
    "\n",
    "# Performing Stratified sampling\n",
    "stratified_CV_data = CV_data.sampleBy('Churn', fractions={0: CV_data.select(\"Churn\").where('Churn == 1').count()/\n",
    "                                                          CV_data.select(\"Churn\").where('Churn == 0').count(), 1: 1.0}, seed = 5323)\n",
    "# Showing the count of stratified sample\n",
    "stratified_CV_data.groupby('Churn').count().show()\n",
    "\n"
   ]
  },
  {
   "cell_type": "code",
   "execution_count": 23,
   "id": "49e2091b-69d0-448c-9172-0c0ff1bb7e4f",
   "metadata": {},
   "outputs": [
    {
     "name": "stderr",
     "output_type": "stream",
     "text": [
      "                                                                                \r"
     ]
    },
    {
     "name": "stdout",
     "output_type": "stream",
     "text": [
      "Confusion Matrix\n",
      " [[73.  6.]\n",
      " [33. 31.]]\n",
      "Precision of True     0.8378378378378378\n",
      "Precision of False    0.6886792452830188\n",
      "Weighted Precision    0.7554355384544064\n",
      "Recall of True        0.484375\n",
      "Recall of False       0.9240506329113924\n",
      "Weighted Recall       0.7272727272727273\n",
      "FMeasure of True      0.6138613861386139\n",
      "FMeasure of False     0.7891891891891891\n",
      "Weighted fMeasure     0.7107208018099107\n",
      "Accuracy              0.7272727272727273\n",
      "========================================\n"
     ]
    },
    {
     "name": "stderr",
     "output_type": "stream",
     "text": [
      "[Stage 82:>                                                         (0 + 1) / 1]\r"
     ]
    },
    {
     "name": "stdout",
     "output_type": "stream",
     "text": [
      "Precision of True     0.5961538461538461\n",
      "Precision of False    0.6886792452830188\n",
      "** Avg Precision      0.6512006025977843\n",
      "Recall of True        0.484375\n",
      "Recall of False       0.776595744680851\n",
      "** Avg Recall         0.6582278481012658\n",
      "F1 of True            0.5344827586206896\n",
      "F1 of False           0.73\n",
      "** Avg F1             0.6508031427324312\n",
      "** Accuracy           0.6582278481012658\n"
     ]
    },
    {
     "name": "stderr",
     "output_type": "stream",
     "text": [
      "                                                                                \r"
     ]
    }
   ],
   "source": [
    "\n",
    "# Splitting the Data\n",
    "training_data, testing_data = labelData(stratified_CV_data).randomSplit([0.8, 0.2])\n",
    "\n",
    "#Training a Decision Tree Classifier\n",
    "model = DecisionTree.trainClassifier(training_data, numClasses=2, maxDepth=2,\n",
    "                                     categoricalFeaturesInfo={1:2, 2:2},\n",
    "                                     impurity='gini', maxBins=32)\n",
    "\n",
    "#Evaluating the Model with Metrics\n",
    "\n",
    "predictions_and_labels = getPredictionsLabels(model, testing_data)\n",
    "printMetrics(predictions_and_labels)\n",
    "\n",
    "print(\"========================================\")\n",
    "\n",
    "#Calculating and Printing Additional Metrics\n",
    "predictionsdf = predictions_and_labels.toDF([\"predictedLabel\",\"label\"])\n",
    "printAllMetrics(predictionsdf)\n",
    "\n"
   ]
  },
  {
   "cell_type": "code",
   "execution_count": 24,
   "id": "7f44fe09-3803-44c0-a6f8-cd4c5954ebfc",
   "metadata": {},
   "outputs": [
    {
     "name": "stdout",
     "output_type": "stream",
     "text": [
      "+--------------+------------------+---------------+---------------------+-----------------+---------------+-----------------+---------------+-------------------+-----------------+------------------+----------------+----------------------+-----+\n",
      "|Account length|International plan|Voice mail plan|Number vmail messages|Total day minutes|Total day calls|Total eve minutes|Total eve calls|Total night minutes|Total night calls|Total intl minutes|Total intl calls|Customer service calls|Churn|\n",
      "+--------------+------------------+---------------+---------------------+-----------------+---------------+-----------------+---------------+-------------------+-----------------+------------------+----------------+----------------------+-----+\n",
      "|           118|               1.0|            0.0|                    0|            223.4|             98|            220.6|            101|              203.9|              118|               6.3|               6|                     0|  0.0|\n",
      "|            73|               0.0|            0.0|                    0|            224.4|             90|            159.5|             88|              192.8|               74|              13.0|               2|                     1|  0.0|\n",
      "+--------------+------------------+---------------+---------------------+-----------------+---------------+-----------------+---------------+-------------------+-----------------+------------------+----------------+----------------------+-----+\n",
      "only showing top 2 rows\n",
      "\n"
     ]
    }
   ],
   "source": [
    "# display the first 2 rows of the stratified_CV_data DataFrame\n",
    "stratified_CV_data.show(2)"
   ]
  },
  {
   "cell_type": "markdown",
   "id": "5375a83f-d839-440c-8f6f-2cdefce38341",
   "metadata": {},
   "source": [
    "## 6. Using Spark ML Package"
   ]
  },
  {
   "cell_type": "markdown",
   "id": "d5e40e54-c41a-4fa9-a00c-a65021052474",
   "metadata": {},
   "source": [
    "### 6.1 Pipelining "
   ]
  },
  {
   "cell_type": "markdown",
   "id": "dd7bc02d-a39e-404f-a685-558e6d6b359e",
   "metadata": {},
   "source": [
    "### 6.2 Model Selection"
   ]
  },
  {
   "cell_type": "code",
   "execution_count": 25,
   "id": "60b059f7-d42e-4eb2-9958-d527733a7ab8",
   "metadata": {},
   "outputs": [],
   "source": [
    "\n",
    "# Importing indexer and assembler\n",
    "from pyspark.ml.feature import StringIndexer, VectorIndexer, VectorAssembler\n",
    "from pyspark.ml import Pipeline\n",
    "\n",
    "\n",
    "def get_dummy(df, numericCols, labelCol):\n",
    "    # Combining a given list of columns into a single vector column features\n",
    "    assembler = VectorAssembler(inputCols=numericCols, outputCol=\"features\")\n",
    "\n",
    "    # Index labels, adding metadata to the label column\n",
    "    indexer = StringIndexer(inputCol=labelCol, outputCol='indexedLabel')\n",
    "\n",
    "    # Automatically identify categorical features and index them\n",
    "    featureIndexer = VectorIndexer(inputCol=\"features\", outputCol=\"indexedFeatures\", maxCategories=2)\n",
    "\n",
    "    pipeline = Pipeline(stages = [assembler] + [indexer] + [featureIndexer])\n",
    "\n",
    "    model = pipeline.fit(df)\n",
    "    data = model.transform(df)\n",
    "\n",
    "    data = data.withColumn('label', col(labelCol))\n",
    "\n",
    "    return data.select('features', 'label', 'indexedFeatures', 'indexedLabel')"
   ]
  },
  {
   "cell_type": "code",
   "execution_count": 26,
   "id": "34461395-55c5-4b73-920f-35a9177ac2a7",
   "metadata": {},
   "outputs": [
    {
     "name": "stderr",
     "output_type": "stream",
     "text": [
      "                                                                                \r"
     ]
    }
   ],
   "source": [
    "# Create a list of stratified columns\n",
    "numericCols = stratified_CV_data.columns\n",
    "\n",
    "# removing churn column\n",
    "numericCols.remove(\"Churn\")\n",
    "\n",
    "# calling dummy data three times for CV_data, Stratified_CV_data nad Final_test_data\n",
    "vectorized_CV_data = get_dummy(CV_data, numericCols, \"Churn\")\n",
    "vectorized_stratified_CV_data = get_dummy(stratified_CV_data, numericCols, \"Churn\")\n",
    "vectorized_final_test_data = get_dummy(final_test_data, numericCols, \"Churn\")"
   ]
  },
  {
   "cell_type": "code",
   "execution_count": 27,
   "id": "7dd8bc8a-83a9-4966-b8a1-361e33999d5b",
   "metadata": {},
   "outputs": [
    {
     "name": "stdout",
     "output_type": "stream",
     "text": [
      "+------------------------------------------------------------------+-----+------------------------------------------------------------------+------------+\n",
      "|features                                                          |label|indexedFeatures                                                   |indexedLabel|\n",
      "+------------------------------------------------------------------+-----+------------------------------------------------------------------+------------+\n",
      "|[118.0,1.0,0.0,0.0,223.4,98.0,220.6,101.0,203.9,118.0,6.3,6.0,0.0]|0.0  |[118.0,1.0,0.0,0.0,223.4,98.0,220.6,101.0,203.9,118.0,6.3,6.0,0.0]|0.0         |\n",
      "|[73.0,0.0,0.0,0.0,224.4,90.0,159.5,88.0,192.8,74.0,13.0,2.0,1.0]  |0.0  |[73.0,0.0,0.0,0.0,224.4,90.0,159.5,88.0,192.8,74.0,13.0,2.0,1.0]  |0.0         |\n",
      "+------------------------------------------------------------------+-----+------------------------------------------------------------------+------------+\n",
      "only showing top 2 rows\n",
      "\n"
     ]
    }
   ],
   "source": [
    "\n",
    "#  Display the first 2 rows of the DataFrame \n",
    "vectorized_stratified_CV_data.show(2, False)\n",
    "\n"
   ]
  },
  {
   "cell_type": "markdown",
   "id": "e4fed997-2d79-4627-8065-dab70c8abcfb",
   "metadata": {},
   "source": [
    "### 6.3 K-fold cross validation"
   ]
  },
  {
   "cell_type": "code",
   "execution_count": 28,
   "id": "92334fbb-2a95-4cdf-8d6c-8d8448c6f41a",
   "metadata": {},
   "outputs": [],
   "source": [
    "# Function performs cross-validated training and evaluation of multiple classifiers on  labeled data\n",
    "def cvComparing(vectorized_train_data, vectorized_test_data, classifiers, paramGrid, numFolds, roundLevel, seed):\n",
    "    names = []\n",
    "    underROC_train = []\n",
    "    underROC_test = []\n",
    "    f1_train = []\n",
    "    f1_test = []\n",
    "    wp_train = []\n",
    "    wp_test = []\n",
    "    wr_train = []\n",
    "    wr_test = []\n",
    "    acc_train = []\n",
    "    acc_test = []\n",
    "\n",
    "    evaluatorB = BinaryClassificationEvaluator(rawPredictionCol=\"prediction\", labelCol=\"indexedLabel\")\n",
    "\n",
    "    evaluatorf1 = MulticlassClassificationEvaluator(labelCol=\"indexedLabel\", predictionCol=\"prediction\", metricName=\"f1\") \n",
    "    evaluatorwp = MulticlassClassificationEvaluator(labelCol=\"indexedLabel\", predictionCol=\"prediction\", metricName=\"weightedPrecision\") \n",
    "    evaluatorwr = MulticlassClassificationEvaluator(labelCol=\"indexedLabel\", predictionCol=\"prediction\", metricName=\"weightedRecall\") \n",
    "    evaluatoracc = MulticlassClassificationEvaluator(labelCol=\"indexedLabel\", predictionCol=\"prediction\", metricName=\"accuracy\") \n",
    "\n",
    "    for name, clf in classifiers:\n",
    "        cv = CrossValidator(estimator=clf, estimatorParamMaps=paramGrid, evaluator=evaluatorf1, numFolds=numFolds, seed=seed, collectSubModels=True)\n",
    "        cvModel = cv.fit(vectorized_train_data)  \n",
    "        predict_train = cvModel.transform(vectorized_train_data)\n",
    "        predict_test = cvModel.transform(vectorized_test_data)\n",
    "        underROC_train.append(evaluatorB.evaluate(predict_train))\n",
    "        underROC_test.append(evaluatorB.evaluate(predict_test))\n",
    "        f1_train.append(evaluatoracc.evaluate(predict_train))\n",
    "        f1_test.append(evaluatoracc.evaluate(predict_test))\n",
    "        wp_train.append(evaluatorwp.evaluate(predict_train))\n",
    "        wp_test.append(evaluatorwp.evaluate(predict_test))\n",
    "        wr_train.append(evaluatorwr.evaluate(predict_train))\n",
    "        wr_test.append(evaluatorwr.evaluate(predict_test))\n",
    "        acc_train.append(evaluatoracc.evaluate(predict_train))\n",
    "        acc_test.append(evaluatoracc.evaluate(predict_test))\n",
    "        names.append(name)\n",
    "\n",
    "    cvResults = spark.createDataFrame(zip(names, underROC_train, underROC_test, acc_train, acc_test, f1_train, f1_test, wp_train, wp_test, wr_train, wr_test), \n",
    "                                       schema=['Classifier name', 'underROC_train', 'underROC_test', 'Accuracy_train', 'Accuracy_test', 'f1_train', 'f1_test', 'wPrecision_train', 'wPrecision_test', 'wRecall_train', 'wRecall_test'])\n",
    "  \n",
    "    for t in cvResults.dtypes:\n",
    "        if t[1] == 'double':\n",
    "            cvResults = cvResults.withColumn(t[0], round(cvResults[t[0]], roundLevel))\n",
    "  \n",
    "    return cvResults\n"
   ]
  },
  {
   "cell_type": "code",
   "execution_count": 29,
   "id": "a7e3e545-bed7-403a-981a-3f110fa4308a",
   "metadata": {},
   "outputs": [
    {
     "name": "stderr",
     "output_type": "stream",
     "text": [
      "23/08/31 16:56:12 ERROR OWLQN: Failure! Resetting history: breeze.optimize.NaNHistory: \n",
      "23/08/31 16:56:28 ERROR OWLQN: Failure! Resetting history: breeze.optimize.NaNHistory: \n"
     ]
    }
   ],
   "source": [
    "# Importing classification algorithms, Evaluater and tuning algorithm\n",
    "from pyspark.ml.classification import LogisticRegression, NaiveBayes, LinearSVC, DecisionTreeClassifier, RandomForestClassifier, GBTClassifier\n",
    "from pyspark.ml.evaluation import BinaryClassificationEvaluator, MulticlassClassificationEvaluator\n",
    "from pyspark.ml.tuning import ParamGridBuilder, CrossValidator\n",
    "\n",
    "paramGrid = ParamGridBuilder().build()\n",
    "\n",
    "classifiers = []\n",
    "##############################################\n",
    "classifiers.append(('LR', LogisticRegression(labelCol='indexedLabel', featuresCol='indexedFeatures')))\n",
    "classifiers.append(('NB', NaiveBayes(labelCol='indexedLabel', featuresCol='indexedFeatures')))\n",
    "classifiers.append(('SVC', LinearSVC(labelCol='indexedLabel', featuresCol='indexedFeatures')))\n",
    "classifiers.append(('DT', DecisionTreeClassifier(labelCol='indexedLabel', featuresCol='indexedFeatures')))\n",
    "classifiers.append(('RF', RandomForestClassifier(labelCol='indexedLabel', featuresCol='indexedFeatures')))\n",
    "classifiers.append(('GBT', GBTClassifier(labelCol='indexedLabel', featuresCol='indexedFeatures')))\n",
    "##############################################\n",
    "\n",
    "\n",
    "# Calling method for training data and stratified data separately\n",
    "cvResults_CV_data = cvComparing(vectorized_train_data=vectorized_CV_data, vectorized_test_data=vectorized_final_test_data, \n",
    "                                classifiers=classifiers, paramGrid=paramGrid, numFolds=5, roundLevel=3, seed=123)\n",
    "\n",
    "cvResults_stratified_CV_data = cvComparing(vectorized_train_data=vectorized_stratified_CV_data, \n",
    "                                           vectorized_test_data=vectorized_final_test_data, classifiers=classifiers, \n",
    "                                           paramGrid=paramGrid, numFolds=5, roundLevel=3, seed=123)"
   ]
  },
  {
   "cell_type": "markdown",
   "id": "65230c70-d67f-4499-8568-3b093359a222",
   "metadata": {},
   "source": [
    "### 6.4 Model Evaluation"
   ]
  },
  {
   "cell_type": "code",
   "execution_count": 30,
   "id": "4cf28056-e8e5-4f74-bffa-a445d01b5f5e",
   "metadata": {},
   "outputs": [
    {
     "data": {
      "text/html": [
       "<div>\n",
       "<style scoped>\n",
       "    .dataframe tbody tr th:only-of-type {\n",
       "        vertical-align: middle;\n",
       "    }\n",
       "\n",
       "    .dataframe tbody tr th {\n",
       "        vertical-align: top;\n",
       "    }\n",
       "\n",
       "    .dataframe thead th {\n",
       "        text-align: right;\n",
       "    }\n",
       "</style>\n",
       "<table border=\"1\" class=\"dataframe\">\n",
       "  <thead>\n",
       "    <tr style=\"text-align: right;\">\n",
       "      <th></th>\n",
       "      <th>underROC_train</th>\n",
       "      <th>underROC_test</th>\n",
       "      <th>Accuracy_train</th>\n",
       "      <th>Accuracy_test</th>\n",
       "      <th>f1_train</th>\n",
       "      <th>f1_test</th>\n",
       "      <th>wPrecision_train</th>\n",
       "      <th>wPrecision_test</th>\n",
       "      <th>wRecall_train</th>\n",
       "      <th>wRecall_test</th>\n",
       "    </tr>\n",
       "    <tr>\n",
       "      <th>Classifier name</th>\n",
       "      <th></th>\n",
       "      <th></th>\n",
       "      <th></th>\n",
       "      <th></th>\n",
       "      <th></th>\n",
       "      <th></th>\n",
       "      <th></th>\n",
       "      <th></th>\n",
       "      <th></th>\n",
       "      <th></th>\n",
       "    </tr>\n",
       "  </thead>\n",
       "  <tbody>\n",
       "    <tr>\n",
       "      <th>LR</th>\n",
       "      <td>0.597</td>\n",
       "      <td>0.577</td>\n",
       "      <td>0.863</td>\n",
       "      <td>0.855</td>\n",
       "      <td>0.863</td>\n",
       "      <td>0.855</td>\n",
       "      <td>0.835</td>\n",
       "      <td>0.820</td>\n",
       "      <td>0.863</td>\n",
       "      <td>0.855</td>\n",
       "    </tr>\n",
       "    <tr>\n",
       "      <th>NB</th>\n",
       "      <td>0.610</td>\n",
       "      <td>0.610</td>\n",
       "      <td>0.632</td>\n",
       "      <td>0.625</td>\n",
       "      <td>0.632</td>\n",
       "      <td>0.625</td>\n",
       "      <td>0.800</td>\n",
       "      <td>0.804</td>\n",
       "      <td>0.632</td>\n",
       "      <td>0.625</td>\n",
       "    </tr>\n",
       "    <tr>\n",
       "      <th>SVC</th>\n",
       "      <td>0.500</td>\n",
       "      <td>0.500</td>\n",
       "      <td>0.854</td>\n",
       "      <td>0.858</td>\n",
       "      <td>0.854</td>\n",
       "      <td>0.858</td>\n",
       "      <td>0.730</td>\n",
       "      <td>0.735</td>\n",
       "      <td>0.854</td>\n",
       "      <td>0.858</td>\n",
       "    </tr>\n",
       "    <tr>\n",
       "      <th>DT</th>\n",
       "      <td>0.841</td>\n",
       "      <td>0.818</td>\n",
       "      <td>0.948</td>\n",
       "      <td>0.945</td>\n",
       "      <td>0.948</td>\n",
       "      <td>0.945</td>\n",
       "      <td>0.948</td>\n",
       "      <td>0.945</td>\n",
       "      <td>0.948</td>\n",
       "      <td>0.945</td>\n",
       "    </tr>\n",
       "    <tr>\n",
       "      <th>RF</th>\n",
       "      <td>0.791</td>\n",
       "      <td>0.768</td>\n",
       "      <td>0.938</td>\n",
       "      <td>0.927</td>\n",
       "      <td>0.938</td>\n",
       "      <td>0.927</td>\n",
       "      <td>0.940</td>\n",
       "      <td>0.925</td>\n",
       "      <td>0.938</td>\n",
       "      <td>0.927</td>\n",
       "    </tr>\n",
       "    <tr>\n",
       "      <th>GBT</th>\n",
       "      <td>0.921</td>\n",
       "      <td>0.859</td>\n",
       "      <td>0.976</td>\n",
       "      <td>0.954</td>\n",
       "      <td>0.976</td>\n",
       "      <td>0.954</td>\n",
       "      <td>0.976</td>\n",
       "      <td>0.953</td>\n",
       "      <td>0.976</td>\n",
       "      <td>0.954</td>\n",
       "    </tr>\n",
       "  </tbody>\n",
       "</table>\n",
       "</div>"
      ],
      "text/plain": [
       "                 underROC_train  underROC_test  Accuracy_train  Accuracy_test  \\\n",
       "Classifier name                                                                 \n",
       "LR                        0.597          0.577           0.863          0.855   \n",
       "NB                        0.610          0.610           0.632          0.625   \n",
       "SVC                       0.500          0.500           0.854          0.858   \n",
       "DT                        0.841          0.818           0.948          0.945   \n",
       "RF                        0.791          0.768           0.938          0.927   \n",
       "GBT                       0.921          0.859           0.976          0.954   \n",
       "\n",
       "                 f1_train  f1_test  wPrecision_train  wPrecision_test  \\\n",
       "Classifier name                                                         \n",
       "LR                  0.863    0.855             0.835            0.820   \n",
       "NB                  0.632    0.625             0.800            0.804   \n",
       "SVC                 0.854    0.858             0.730            0.735   \n",
       "DT                  0.948    0.945             0.948            0.945   \n",
       "RF                  0.938    0.927             0.940            0.925   \n",
       "GBT                 0.976    0.954             0.976            0.953   \n",
       "\n",
       "                 wRecall_train  wRecall_test  \n",
       "Classifier name                               \n",
       "LR                       0.863         0.855  \n",
       "NB                       0.632         0.625  \n",
       "SVC                      0.854         0.858  \n",
       "DT                       0.948         0.945  \n",
       "RF                       0.938         0.927  \n",
       "GBT                      0.976         0.954  "
      ]
     },
     "execution_count": 30,
     "metadata": {},
     "output_type": "execute_result"
    }
   ],
   "source": [
    "\n",
    "# Displays performance metrics of  data in various machine learning algorithm\n",
    "cvResults_CV_data.toPandas().set_index('Classifier name')\n",
    "\n"
   ]
  },
  {
   "cell_type": "code",
   "execution_count": 31,
   "id": "b8b01e9e-90f0-4241-a603-0e442925771e",
   "metadata": {},
   "outputs": [
    {
     "data": {
      "text/html": [
       "<div>\n",
       "<style scoped>\n",
       "    .dataframe tbody tr th:only-of-type {\n",
       "        vertical-align: middle;\n",
       "    }\n",
       "\n",
       "    .dataframe tbody tr th {\n",
       "        vertical-align: top;\n",
       "    }\n",
       "\n",
       "    .dataframe thead th {\n",
       "        text-align: right;\n",
       "    }\n",
       "</style>\n",
       "<table border=\"1\" class=\"dataframe\">\n",
       "  <thead>\n",
       "    <tr style=\"text-align: right;\">\n",
       "      <th></th>\n",
       "      <th>underROC_train</th>\n",
       "      <th>underROC_test</th>\n",
       "      <th>Accuracy_train</th>\n",
       "      <th>Accuracy_test</th>\n",
       "      <th>f1_train</th>\n",
       "      <th>f1_test</th>\n",
       "      <th>wPrecision_train</th>\n",
       "      <th>wPrecision_test</th>\n",
       "      <th>wRecall_train</th>\n",
       "      <th>wRecall_test</th>\n",
       "    </tr>\n",
       "    <tr>\n",
       "      <th>Classifier name</th>\n",
       "      <th></th>\n",
       "      <th></th>\n",
       "      <th></th>\n",
       "      <th></th>\n",
       "      <th></th>\n",
       "      <th></th>\n",
       "      <th></th>\n",
       "      <th></th>\n",
       "      <th></th>\n",
       "      <th></th>\n",
       "    </tr>\n",
       "  </thead>\n",
       "  <tbody>\n",
       "    <tr>\n",
       "      <th>LR</th>\n",
       "      <td>0.776</td>\n",
       "      <td>0.750</td>\n",
       "      <td>0.776</td>\n",
       "      <td>0.751</td>\n",
       "      <td>0.776</td>\n",
       "      <td>0.751</td>\n",
       "      <td>0.776</td>\n",
       "      <td>0.860</td>\n",
       "      <td>0.776</td>\n",
       "      <td>0.751</td>\n",
       "    </tr>\n",
       "    <tr>\n",
       "      <th>NB</th>\n",
       "      <td>0.602</td>\n",
       "      <td>0.607</td>\n",
       "      <td>0.602</td>\n",
       "      <td>0.537</td>\n",
       "      <td>0.602</td>\n",
       "      <td>0.537</td>\n",
       "      <td>0.603</td>\n",
       "      <td>0.810</td>\n",
       "      <td>0.602</td>\n",
       "      <td>0.537</td>\n",
       "    </tr>\n",
       "    <tr>\n",
       "      <th>SVC</th>\n",
       "      <td>0.780</td>\n",
       "      <td>0.764</td>\n",
       "      <td>0.780</td>\n",
       "      <td>0.760</td>\n",
       "      <td>0.780</td>\n",
       "      <td>0.760</td>\n",
       "      <td>0.780</td>\n",
       "      <td>0.865</td>\n",
       "      <td>0.780</td>\n",
       "      <td>0.760</td>\n",
       "    </tr>\n",
       "    <tr>\n",
       "      <th>DT</th>\n",
       "      <td>0.899</td>\n",
       "      <td>0.848</td>\n",
       "      <td>0.899</td>\n",
       "      <td>0.928</td>\n",
       "      <td>0.899</td>\n",
       "      <td>0.928</td>\n",
       "      <td>0.912</td>\n",
       "      <td>0.927</td>\n",
       "      <td>0.899</td>\n",
       "      <td>0.928</td>\n",
       "    </tr>\n",
       "    <tr>\n",
       "      <th>RF</th>\n",
       "      <td>0.883</td>\n",
       "      <td>0.828</td>\n",
       "      <td>0.883</td>\n",
       "      <td>0.864</td>\n",
       "      <td>0.883</td>\n",
       "      <td>0.864</td>\n",
       "      <td>0.886</td>\n",
       "      <td>0.896</td>\n",
       "      <td>0.883</td>\n",
       "      <td>0.864</td>\n",
       "    </tr>\n",
       "    <tr>\n",
       "      <th>GBT</th>\n",
       "      <td>0.947</td>\n",
       "      <td>0.862</td>\n",
       "      <td>0.947</td>\n",
       "      <td>0.921</td>\n",
       "      <td>0.947</td>\n",
       "      <td>0.921</td>\n",
       "      <td>0.952</td>\n",
       "      <td>0.925</td>\n",
       "      <td>0.947</td>\n",
       "      <td>0.921</td>\n",
       "    </tr>\n",
       "  </tbody>\n",
       "</table>\n",
       "</div>"
      ],
      "text/plain": [
       "                 underROC_train  underROC_test  Accuracy_train  Accuracy_test  \\\n",
       "Classifier name                                                                 \n",
       "LR                        0.776          0.750           0.776          0.751   \n",
       "NB                        0.602          0.607           0.602          0.537   \n",
       "SVC                       0.780          0.764           0.780          0.760   \n",
       "DT                        0.899          0.848           0.899          0.928   \n",
       "RF                        0.883          0.828           0.883          0.864   \n",
       "GBT                       0.947          0.862           0.947          0.921   \n",
       "\n",
       "                 f1_train  f1_test  wPrecision_train  wPrecision_test  \\\n",
       "Classifier name                                                         \n",
       "LR                  0.776    0.751             0.776            0.860   \n",
       "NB                  0.602    0.537             0.603            0.810   \n",
       "SVC                 0.780    0.760             0.780            0.865   \n",
       "DT                  0.899    0.928             0.912            0.927   \n",
       "RF                  0.883    0.864             0.886            0.896   \n",
       "GBT                 0.947    0.921             0.952            0.925   \n",
       "\n",
       "                 wRecall_train  wRecall_test  \n",
       "Classifier name                               \n",
       "LR                       0.776         0.751  \n",
       "NB                       0.602         0.537  \n",
       "SVC                      0.780         0.760  \n",
       "DT                       0.899         0.928  \n",
       "RF                       0.883         0.864  \n",
       "GBT                      0.947         0.921  "
      ]
     },
     "execution_count": 31,
     "metadata": {},
     "output_type": "execute_result"
    }
   ],
   "source": [
    "# Displays performance metrics of stratified data in various machine learning algorithm\n",
    "cvResults_stratified_CV_data.toPandas().set_index('Classifier name')"
   ]
  },
  {
   "cell_type": "code",
   "execution_count": 32,
   "id": "7dc15acb-4d47-4775-83d7-4b1cbfd880a0",
   "metadata": {},
   "outputs": [
    {
     "name": "stdout",
     "output_type": "stream",
     "text": [
      "Weighted Precision    0.6033201874136246\n",
      "Weighted Recall       0.6018041237113402\n",
      "F1                    0.6003380185910225\n",
      "Accuracy              0.6018041237113402\n",
      "========================================\n",
      "Precision of True     0.5908045977011495\n",
      "Precision of False    0.6158357771260997\n",
      "** Avg Precision      0.6033201874136246\n",
      "Recall of True        0.6623711340206185\n",
      "Recall of False       0.5412371134020618\n",
      "** Avg Recall         0.6018041237113402\n",
      "F1 of True            0.6245443499392467\n",
      "F1 of False           0.5761316872427983\n",
      "** Avg F1             0.6003380185910225\n",
      "** Accuracy           0.6018041237113402\n"
     ]
    }
   ],
   "source": [
    "\n",
    "# Evaluate the performance of the Naive Bayes classifier on stratified cross-validated training data \n",
    "evaluatorf1 = MulticlassClassificationEvaluator(labelCol=\"indexedLabel\", predictionCol=\"prediction\", metricName=\"f1\") \n",
    "evaluatorwp = MulticlassClassificationEvaluator(labelCol=\"indexedLabel\", predictionCol=\"prediction\", metricName=\"weightedPrecision\") \n",
    "evaluatorwr = MulticlassClassificationEvaluator(labelCol=\"indexedLabel\", predictionCol=\"prediction\", metricName=\"weightedRecall\") \n",
    "evaluatorac = MulticlassClassificationEvaluator(labelCol=\"indexedLabel\", predictionCol=\"prediction\", metricName=\"accuracy\") \n",
    "\n",
    "#clf = DecisionTreeClassifier(labelCol='indexedLabel', featuresCol='indexedFeatures')\n",
    "clf = NaiveBayes(labelCol='indexedLabel', featuresCol='indexedFeatures')\n",
    "\n",
    "clfModel = clf.fit(vectorized_stratified_CV_data)  \n",
    "pred_train = clfModel.transform(vectorized_stratified_CV_data)\n",
    "\n",
    "print('Weighted Precision   ', evaluatorwp.evaluate(pred_train))\n",
    "print('Weighted Recall      ', evaluatorwr.evaluate(pred_train))\n",
    "print('F1                   ', evaluatorf1.evaluate(pred_train))\n",
    "print('Accuracy             ', evaluatorac.evaluate(pred_train))\n",
    "\n",
    "print(\"========================================\")\n",
    "\n",
    "printAllMetrics(pred_train.withColumn('predictedLabel', col(\"prediction\")))\n",
    "\n"
   ]
  },
  {
   "cell_type": "code",
   "execution_count": 33,
   "id": "35a528de-5cfc-42f2-b13f-48e071216722",
   "metadata": {},
   "outputs": [
    {
     "name": "stdout",
     "output_type": "stream",
     "text": [
      "The metric name used by the BinaryClassificationEvaluator is areaUnderROC.\n"
     ]
    }
   ],
   "source": [
    "# Displaying metric name\n",
    "print(\"The metric name used by the BinaryClassificationEvaluator is {}.\".format(BinaryClassificationEvaluator().getMetricName()))\n"
   ]
  },
  {
   "cell_type": "code",
   "execution_count": 34,
   "id": "719ec1c2-8592-4331-a23c-487621623bc9",
   "metadata": {},
   "outputs": [],
   "source": []
  },
  {
   "cell_type": "code",
   "execution_count": 35,
   "id": "1550cf20-c3fd-48e1-9c58-d234cda9d9c1",
   "metadata": {},
   "outputs": [],
   "source": [
    "#from pyspark.ml.stat import Correlation\n",
    "\n",
    "# Compute the correlation matrix\n",
    "#corr_matrix = Correlation.corr(df, \"features\").head()\n",
    "\n",
    "# Convert the correlation matrix to a DataFrame\n",
    "#corr_df = spark.createDataFrame(corr_matrix[0].toArray())\n"
   ]
  },
  {
   "cell_type": "code",
   "execution_count": null,
   "id": "180fe451-356a-49a4-bd36-fc556a4dc2ce",
   "metadata": {},
   "outputs": [],
   "source": [
    "\n"
   ]
  },
  {
   "cell_type": "code",
   "execution_count": 1,
   "id": "9f7db52b-ee26-4150-b981-50fe42f74d59",
   "metadata": {},
   "outputs": [],
   "source": [
    "import seaborn as sns\n",
    "import matplotlib.pyplot as plt\n",
    "\n",
    "# Convert the Spark DataFrame to a Pandas DataFra\n",
    "#plt.rcParams[\"figure.figsize\"] = (20,10)\n",
    "#sns.heatmap(pandas_df[:].corr(),annot = True)\n",
    "#plt.title(\"Heatmap of data\",fontsize= 15)\n",
    "#plt.show()\n",
    "\n",
    "\n"
   ]
  },
  {
   "cell_type": "markdown",
   "id": "a5641fee-1c72-432f-a568-212a5f35fec3",
   "metadata": {},
   "source": [
    "## K means clustering"
   ]
  },
  {
   "cell_type": "code",
   "execution_count": 37,
   "id": "42aef8e1-8a12-4c9b-9f05-01285f3674d9",
   "metadata": {},
   "outputs": [],
   "source": [
    "#importing kmeans, clustering and Vector Assembler\n",
    "from pyspark.ml.feature import VectorAssembler, StandardScaler\n",
    "from pyspark.ml.clustering import KMeans\n",
    "from pyspark.ml.evaluation import ClusteringEvaluator"
   ]
  },
  {
   "cell_type": "code",
   "execution_count": 38,
   "id": "228640f0-9474-46ac-90fb-82e9867e62f8",
   "metadata": {},
   "outputs": [
    {
     "name": "stdout",
     "output_type": "stream",
     "text": [
      "+--------------+------------------+---------------+---------------------+-----------------+---------------+-----------------+---------------+-------------------+-----------------+------------------+----------------+----------------------+-----+--------------------+--------------------+\n",
      "|Account length|International plan|Voice mail plan|Number vmail messages|Total day minutes|Total day calls|Total eve minutes|Total eve calls|Total night minutes|Total night calls|Total intl minutes|Total intl calls|Customer service calls|Churn|            features|     scaled_features|\n",
      "+--------------+------------------+---------------+---------------------+-----------------+---------------+-----------------+---------------+-------------------+-----------------+------------------+----------------+----------------------+-----+--------------------+--------------------+\n",
      "|           128|               0.0|            1.0|                   25|            265.1|            110|            197.4|             99|              244.7|               91|              10.0|               3|                     1|  0.0|[128.0,0.0,1.0,25...|[3.23526653620553...|\n",
      "|           107|               0.0|            1.0|                   26|            161.6|            123|            195.5|            103|              254.4|              103|              13.7|               3|                     1|  0.0|[107.0,0.0,1.0,26...|[2.70448062010931...|\n",
      "|           137|               0.0|            0.0|                    0|            243.4|            114|            121.2|            110|              162.6|              104|              12.2|               5|                     0|  0.0|[137.0,0.0,0.0,0....|[3.46274621453248...|\n",
      "|            84|               1.0|            0.0|                    0|            299.4|             71|             61.9|             88|              196.9|               89|               6.6|               7|                     2|  0.0|[84.0,1.0,0.0,0.0...|[2.12314366438487...|\n",
      "|            75|               1.0|            0.0|                    0|            166.7|            113|            148.3|            122|              186.9|              121|              10.1|               3|                     3|  0.0|[75.0,1.0,0.0,0.0...|[1.89566398605792...|\n",
      "+--------------+------------------+---------------+---------------------+-----------------+---------------+-----------------+---------------+-------------------+-----------------+------------------+----------------+----------------------+-----+--------------------+--------------------+\n",
      "only showing top 5 rows\n",
      "\n"
     ]
    }
   ],
   "source": [
    "# Assembling features into a single column\n",
    "assembler = VectorAssembler(inputCols=CV_data.columns, outputCol=\"features\")\n",
    "data_df = assembler.transform(CV_data)\n",
    "\n",
    "# Scaling the features\n",
    "scaler = StandardScaler(inputCol=\"features\", outputCol=\"scaled_features\")\n",
    "scaler_model = scaler.fit(data_df)\n",
    "data_df = scaler_model.transform(data_df)\n",
    "\n",
    "data_df.show(5)"
   ]
  },
  {
   "cell_type": "code",
   "execution_count": null,
   "id": "de8621f8-ab6f-453e-ab57-18f2626199e8",
   "metadata": {},
   "outputs": [],
   "source": []
  },
  {
   "cell_type": "code",
   "execution_count": null,
   "id": "45558566-961d-49bf-874e-623087faa622",
   "metadata": {},
   "outputs": [],
   "source": []
  },
  {
   "cell_type": "code",
   "execution_count": 39,
   "id": "f335349a-d0d4-4e90-9693-a84464f8a044",
   "metadata": {},
   "outputs": [
    {
     "name": "stderr",
     "output_type": "stream",
     "text": [
      "                                                                                \r"
     ]
    },
    {
     "name": "stdout",
     "output_type": "stream",
     "text": [
      "Silhouette Score: 0.2912231590885746\n",
      "Silhouette Score: 0.2886667394545724\n",
      "Silhouette Score: 0.15109412147509832\n",
      "Silhouette Score: 0.1403369090634606\n"
     ]
    }
   ],
   "source": [
    "# Computing WSSSE for K values from 2 to 8\n",
    "wssse_values =[]\n",
    "evaluator = ClusteringEvaluator(predictionCol='prediction', featuresCol='scaled_features', \\\n",
    "                                metricName='silhouette', distanceMeasure='squaredEuclidean')\n",
    "\n",
    "for i in range(2,67):    \n",
    "    KMeans_mod = KMeans(featuresCol='scaled_features', k=i)  \n",
    "    KMeans_fit = KMeans_mod.fit(data_df)  \n",
    "    output = KMeans_fit.transform(data_df)   \n",
    "    score = evaluator.evaluate(output)   \n",
    "    wssse_values.append(score)  \n",
    "    print(\"Silhouette Score:\",score)"
   ]
  },
  {
   "cell_type": "code",
   "execution_count": null,
   "id": "23a72364-b639-4003-8acd-c1642d431170",
   "metadata": {},
   "outputs": [],
   "source": [
    "\n",
    "\n",
    "sil = []\n",
    "kmax = 10\n",
    "\n",
    "# dissimilarity would not be defined for a single cluster, thus, minimum number of clusters should be 2\n",
    "for k in range(2, kmax+1):\n",
    "  kmeans = KMeans(n_clusters = k).fit(x)\n",
    "  labels = kmeans.labels_\n",
    "  sil.append(silhouette_score(x, labels, metric = 'euclidean'))"
   ]
  },
  {
   "cell_type": "code",
   "execution_count": 40,
   "id": "9d1d219a-35a2-4c6b-ab2c-d89ded40d8e7",
   "metadata": {},
   "outputs": [
    {
     "data": {
      "image/png": "[encoded data removed]",
      "text/plain": [
       "<Figure size 2000x1000 with 1 Axes>"
      ]
     },
     "metadata": {},
     "output_type": "display_data"
    }
   ],
   "source": [
    "# Plotting WSSSE values\n",
    "plt.plot(range(2, 6), wssse_values)\n",
    "plt.xlabel('Number of Clusters (K)')\n",
    "plt.ylabel('Within Set Sum of Squared Errors (WSSSE)')\n",
    "plt.title('Elbow Method for Optimal K')\n",
    "plt.grid()\n",
    "plt.show()"
   ]
  },
  {
   "cell_type": "code",
   "execution_count": null,
   "id": "56daf30b-86fc-40f2-8d71-ba7bb55d9268",
   "metadata": {},
   "outputs": [],
   "source": []
  },
  {
   "cell_type": "code",
   "execution_count": 41,
   "id": "c84b32c3-db14-4ba8-8249-0192c55990fe",
   "metadata": {},
   "outputs": [],
   "source": [
    "# Define the K-means clustering model\n",
    "kmeans = KMeans(k=4, featuresCol=\"scaled_features\", predictionCol=\"cluster\")\n",
    "kmeans_model = kmeans.fit(data_df)\n",
    "\n",
    "\n",
    "# Assigning the data points to clusters\n",
    "clustered_data = kmeans_model.transform(data_df)\n"
   ]
  },
  {
   "cell_type": "code",
   "execution_count": 42,
   "id": "f1d06a7a-65aa-43ce-8d1e-e1a0fea8207f",
   "metadata": {},
   "outputs": [
    {
     "name": "stdout",
     "output_type": "stream",
     "text": [
      "Within Set Sum of Squared Errors (WSSSE) = 0.1403369090634606\n"
     ]
    }
   ],
   "source": [
    "output = KMeans_fit.transform(data_df)\n",
    "wssse = evaluator.evaluate(output)\n",
    "print(f\"Within Set Sum of Squared Errors (WSSSE) = {wssse}\")"
   ]
  },
  {
   "cell_type": "code",
   "execution_count": null,
   "id": "1624180f-3e12-4c12-aee5-f342e098a753",
   "metadata": {},
   "outputs": [],
   "source": []
  },
  {
   "cell_type": "code",
   "execution_count": 50,
   "id": "515114e7-08c7-44b7-8819-1973fb3b90da",
   "metadata": {},
   "outputs": [],
   "source": [
    "cd = clustered_data.toPandas().to_csv(\"Clustered\")"
   ]
  },
  {
   "cell_type": "code",
   "execution_count": null,
   "id": "23a7fbdb-1ecd-4fae-911d-464e6f402925",
   "metadata": {},
   "outputs": [],
   "source": []
  },
  {
   "cell_type": "code",
   "execution_count": null,
   "id": "b839d6e5-54a4-4687-8b15-c82456c6e87a",
   "metadata": {},
   "outputs": [],
   "source": []
  },
  {
   "cell_type": "code",
   "execution_count": null,
   "id": "0903616a-ba06-44cb-81fc-c4cf59096e26",
   "metadata": {},
   "outputs": [],
   "source": []
  },
  {
   "cell_type": "code",
   "execution_count": null,
   "id": "c0e4fa83-73b7-4ced-8bc0-7671a634d66d",
   "metadata": {},
   "outputs": [],
   "source": []
  },
  {
   "cell_type": "code",
   "execution_count": null,
   "id": "6b939078-b301-4d09-944a-b159797ec213",
   "metadata": {},
   "outputs": [],
   "source": []
  },
  {
   "cell_type": "code",
   "execution_count": null,
   "id": "52514994-25d1-4490-9332-4d1297c2b479",
   "metadata": {},
   "outputs": [],
   "source": []
  },
  {
   "cell_type": "code",
   "execution_count": null,
   "id": "964cae84-c0fa-4884-b613-1afa12e7c4ae",
   "metadata": {},
   "outputs": [],
   "source": []
  }
 ],
 "metadata": {
  "kernelspec": {
   "display_name": "Python 3 (ipykernel)",
   "language": "python",
   "name": "python3"
  },
  "language_info": {
   "codemirror_mode": {
    "name": "ipython",
    "version": 3
   },
   "file_extension": ".py",
   "mimetype": "text/x-python",
   "name": "python",
   "nbconvert_exporter": "python",
   "pygments_lexer": "ipython3",
   "version": "3.10.12"
  }
 },
 "nbformat": 4,
 "nbformat_minor": 5
}
